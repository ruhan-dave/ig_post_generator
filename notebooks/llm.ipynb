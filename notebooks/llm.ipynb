{
 "cells": [
  {
   "cell_type": "code",
   "execution_count": 27,
   "metadata": {},
   "outputs": [],
   "source": [
    "import os\n",
    "from dotenv import load_dotenv\n",
    "from llama_index.llms.cohere import Cohere\n",
    "import cohere\n",
    "\n",
    "load_dotenv()\n",
    "\n",
    "# Load the Cohere API key from the environment variable\n",
    "cohere_api = os.getenv(\"COHERE_API_KEY\")\n",
    "\n",
    "# Initialize the Cohere model\n",
    "cohere_model = Cohere(\n",
    "    api_key=cohere_api, model=\"command-r-plus\" # \"command-r-08-2024\"\n",
    ")"
   ]
  },
  {
   "cell_type": "code",
   "execution_count": 28,
   "metadata": {},
   "outputs": [],
   "source": [
    "ch = cohere.ClientV2(api_key=cohere_api)"
   ]
  },
  {
   "cell_type": "code",
   "execution_count": 2,
   "metadata": {},
   "outputs": [],
   "source": [
    "from llama_index.core import ServiceContext, set_global_service_context, Settings"
   ]
  },
  {
   "cell_type": "code",
   "execution_count": 3,
   "metadata": {},
   "outputs": [],
   "source": [
    "Settings.llm = cohere_model\n",
    "# Settings.embed_model = OpenAIEmbedding(model=\"text-embedding-3-small\")\n",
    "# Settings.node_parser = SentenceSplitter(chunk_size=512, chunk_overlap=20)\n",
    "Settings.num_output = 512\n",
    "Settings.context_window = 4000"
   ]
  },
  {
   "cell_type": "code",
   "execution_count": 14,
   "metadata": {},
   "outputs": [],
   "source": [
    "ig_template = \"\"\" \n",
    "You are an instagram post captions generator. You will be given a description of the images and you will generate a caption for the post. \n",
    "The caption should be engaging and relevant to the images. Be sure to include relevant hashtags and emojis.\n",
    "The caption should be no more than 20 words. Use the given user's emotion to guide the style of the caption.\n",
    "\n",
    "### Available Data:\n",
    "- Emotion: {emotion}\n",
    "\"\"\""
   ]
  },
  {
   "cell_type": "code",
   "execution_count": 29,
   "metadata": {},
   "outputs": [],
   "source": [
    "def make_caption(ch, query: str, emotion, template=ig_template) -> str:\n",
    "  prompt = template.format(\n",
    "    query=query,\n",
    "    emotion=emotion,\n",
    "  )\n",
    "  response = ch.chat(model=\"command-r-08-2024\", messages=[{\"role\": \"user\", \"content\": prompt}], temperature=0.5)\n",
    "  return response.message.content[0].text"
   ]
  },
  {
   "cell_type": "code",
   "execution_count": 30,
   "metadata": {},
   "outputs": [
    {
     "data": {
      "text/plain": [
       "'\"Spreading joy and sunshine! 🌞 Let\\'s brighten up the world together! #JoyfulVibes #SunshineEnergy\"'"
      ]
     },
     "execution_count": 30,
     "metadata": {},
     "output_type": "execute_result"
    }
   ],
   "source": [
    "output = make_caption(\n",
    "    ch=ch,\n",
    "    query=\"A girl with a smile playing with a puppy in a sunny park\",\n",
    "    emotion=\"joy\"\n",
    ")\n",
    "output"
   ]
  },
  {
   "cell_type": "code",
   "execution_count": null,
   "metadata": {},
   "outputs": [],
   "source": []
  }
 ],
 "metadata": {
  "kernelspec": {
   "display_name": ".venv",
   "language": "python",
   "name": "python3"
  },
  "language_info": {
   "codemirror_mode": {
    "name": "ipython",
    "version": 3
   },
   "file_extension": ".py",
   "mimetype": "text/x-python",
   "name": "python",
   "nbconvert_exporter": "python",
   "pygments_lexer": "ipython3",
   "version": "3.12.9"
  }
 },
 "nbformat": 4,
 "nbformat_minor": 2
}
